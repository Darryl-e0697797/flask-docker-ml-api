{
 "cells": [
  {
   "cell_type": "markdown",
   "id": "2c316b15",
   "metadata": {},
   "source": [
    "# Question 1a\n",
    "a) Use linear regression to estimate the parameters α, τ , and β. You are permitted to\n",
    "use Python or R."
   ]
  },
  {
   "cell_type": "code",
   "execution_count": 1,
   "id": "99b3ebf1",
   "metadata": {},
   "outputs": [
    {
     "name": "stdout",
     "output_type": "stream",
     "text": [
      "Intercept (α): 95.97\n",
      "Treatment Effect (τ̂): -9.11\n",
      "Spending Effect (β): 1.51\n",
      "P-value for τ̂: 0.0004\n",
      "\n",
      "Statistical Summary:\n",
      "                            OLS Regression Results                            \n",
      "==============================================================================\n",
      "Dep. Variable:                      Y   R-squared:                       0.698\n",
      "Model:                            OLS   Adj. R-squared:                  0.662\n",
      "Method:                 Least Squares   F-statistic:                     19.61\n",
      "Date:                Sun, 13 Apr 2025   Prob (F-statistic):           3.84e-05\n",
      "Time:                        16:23:01   Log-Likelihood:                -57.076\n",
      "No. Observations:                  20   AIC:                             120.2\n",
      "Df Residuals:                      17   BIC:                             123.1\n",
      "Df Model:                           2                                         \n",
      "Covariance Type:            nonrobust                                         \n",
      "==============================================================================\n",
      "                 coef    std err          t      P>|t|      [0.025      0.975]\n",
      "------------------------------------------------------------------------------\n",
      "const         95.9662      8.919     10.760      0.000      77.148     114.784\n",
      "W             -9.1057      2.053     -4.434      0.000     -13.438      -4.773\n",
      "X              1.5149      0.373      4.062      0.001       0.728       2.302\n",
      "==============================================================================\n",
      "Omnibus:                        3.565   Durbin-Watson:                   1.876\n",
      "Prob(Omnibus):                  0.168   Jarque-Bera (JB):                1.670\n",
      "Skew:                           0.577   Prob(JB):                        0.434\n",
      "Kurtosis:                       3.820   Cond. No.                         206.\n",
      "==============================================================================\n",
      "\n",
      "Notes:\n",
      "[1] Standard Errors assume that the covariance matrix of the errors is correctly specified.\n"
     ]
    }
   ],
   "source": [
    "import statsmodels.api as sm\n",
    "import pandas as pd\n",
    "import numpy as np\n",
    "\n",
    "# Loading and Prepare data\n",
    "W = np.array([[0], [1], [1], [1], [0], [1], [1], [0], [0], [1],\n",
    "              [1], [0], [0], [1], [0], [1], [0], [0], [1], [1]])\n",
    "X = np.array([[19.8], [23.4], [27.7], [24.6], [21.5], [25.1], [22.4], [29.3], [20.8], [20.2],\n",
    "              [27.3], [24.5], [22.9], [18.4], [24.2], [21.0], [25.9], [23.2], [21.6], [22.8]])\n",
    "Y = np.array([137, 118, 124, 124, 120, 129, 122, 142, 128, 114,\n",
    "              132, 130, 130, 112, 132, 117, 134, 132, 121, 128])\n",
    "\n",
    "# Construct dataset\n",
    "data = pd.DataFrame({\n",
    "    \"Y\": Y,\n",
    "    \"W\": W.flatten(),\n",
    "    \"X\": X.flatten()\n",
    "})\n",
    "\n",
    "# Add constant (α)\n",
    "X_reg = sm.add_constant(data[[\"W\", \"X\"]])  # Includes α (intercept)\n",
    "model_stats = sm.OLS(data[\"Y\"], X_reg).fit()\n",
    "\n",
    "# Extract coefficients\n",
    "alpha = model_stats.params[\"const\"]\n",
    "tau = model_stats.params[\"W\"]\n",
    "beta = model_stats.params[\"X\"]\n",
    "p_value = model_stats.pvalues[\"W\"]\n",
    "\n",
    "print(\"Intercept (α):\", round(alpha, 2))\n",
    "print(\"Treatment Effect (τ̂):\", round(tau, 2))\n",
    "print(\"Spending Effect (β):\", round(beta, 2))\n",
    "print(\"P-value for τ̂:\", round(p_value, 4))\n",
    "\n",
    "print(\"\\nStatistical Summary:\")\n",
    "print(model_stats.summary())"
   ]
  },
  {
   "cell_type": "markdown",
   "id": "e148a8c0",
   "metadata": {},
   "source": [
    "# Question 1b\n",
    "b) Report the estimated ATE (ˆτ ) and its statistical significance.\n",
    "\n",
    "Estimated ATE is -9.11 and P>|t| is 0.0004, meaning that the ATE is highly statistically significant. The 95% confidence interval for the ATE is [-13.438, -4.773] further confirming significance\n"
   ]
  },
  {
   "cell_type": "markdown",
   "id": "719ce953",
   "metadata": {},
   "source": [
    "# Question 1c\n",
    "c) Briefly explain under what assumptions ˆτ can be given a causal interpretation.\n",
    "\n",
    "The following key assumptions should be there:\n",
    "\n",
    "1. Unconfoundedness where there should be no unmeasured confounders. All variables infleuncing both treatment assignment (W) and the outcome (Y) are included in the model.\n",
    "2. Every unit has a non-zero probability of receiving either treatment (W =1 or W=0) for all values of X\n",
    "3. Stable Unit Treatment Value Assumption (SUTVA) \n",
    "    where one unit's treatment does not affect another's outcome - Corporation A's participation does not influence Corporation B's engagement score AND\n",
    "    all the treatment is well-defined and identical for all units\n",
    "4. Linear regression model should accurately reflect relationship between X and Y"
   ]
  },
  {
   "cell_type": "markdown",
   "id": "111235f5",
   "metadata": {},
   "source": [
    "# Question 2\n",
    "A brief (2–3 sentence) explanation of each component in your setup (e.g., what app.py does, why the Dockerfile is needed, and how containerization improves reproducibility).\n",
    "\n",
    "Explanation of Components below:\n",
    "1. **train_model.py**: Prepares the data to fit into a linear regression for estimation of the parameters α, τ , and β. Allows us to understand the ATE and its statistical significance\n",
    "2. **app.py**: Implements the Flask API with a /predict endpoint that uses the regression model combined with the estimated paramters from **train_model.py** to predict engagement scores based on treatment status and spending\n",
    "3. **Dockerfile**: Defines the container environment, ensuring consistent dependecies and runtime across different systems, to run **train_model.py** before **app.py**\n",
    "4. **Containerization benefits**: Ensures reproducibility by packaging the application with all its dependencies, eliminating \"works on my machine\" problems and making deployment easier across different environments.\n"
   ]
  }
 ],
 "metadata": {
  "kernelspec": {
   "display_name": "Python 3",
   "language": "python",
   "name": "python3"
  },
  "language_info": {
   "codemirror_mode": {
    "name": "ipython",
    "version": 3
   },
   "file_extension": ".py",
   "mimetype": "text/x-python",
   "name": "python",
   "nbconvert_exporter": "python",
   "pygments_lexer": "ipython3",
   "version": "3.12.6"
  }
 },
 "nbformat": 4,
 "nbformat_minor": 5
}
